{
 "cells": [
  {
   "cell_type": "markdown",
   "metadata": {},
   "source": [
    "# NLP Lab 2\n"
   ]
  },
  {
   "cell_type": "code",
   "execution_count": 5,
   "metadata": {},
   "outputs": [
    {
     "name": "stdout",
     "output_type": "stream",
     "text": [
      "Collecting cython\n",
      "  Downloading Cython-0.29.28-py2.py3-none-any.whl (983 kB)\n",
      "\u001b[K     |████████████████████████████████| 983 kB 1.1 MB/s eta 0:00:01\n",
      "\u001b[?25hInstalling collected packages: cython\n",
      "Successfully installed cython-0.29.28\n",
      "Collecting ruamel-yaml-conda\n",
      "  Using cached ruamel_yaml_conda-0.15.80.tar.gz (202 kB)\n",
      "\u001b[31m    ERROR: Command errored out with exit status 1:\n",
      "     command: /usr/local/Caskroom/miniconda/base/bin/python -c 'import sys, setuptools, tokenize; sys.argv[0] = '\"'\"'/private/var/folders/h9/d_5kr6xn59dc2d8szjycvyph0000gn/T/pip-install-guwkraq9/ruamel-yaml-conda/setup.py'\"'\"'; __file__='\"'\"'/private/var/folders/h9/d_5kr6xn59dc2d8szjycvyph0000gn/T/pip-install-guwkraq9/ruamel-yaml-conda/setup.py'\"'\"';f=getattr(tokenize, '\"'\"'open'\"'\"', open)(__file__);code=f.read().replace('\"'\"'\\r\\n'\"'\"', '\"'\"'\\n'\"'\"');f.close();exec(compile(code, __file__, '\"'\"'exec'\"'\"'))' egg_info --egg-base /private/var/folders/h9/d_5kr6xn59dc2d8szjycvyph0000gn/T/pip-pip-egg-info-j_ynrwey\n",
      "         cwd: /private/var/folders/h9/d_5kr6xn59dc2d8szjycvyph0000gn/T/pip-install-guwkraq9/ruamel-yaml-conda/\n",
      "    Complete output (11 lines):\n",
      "    Traceback (most recent call last):\n",
      "      File \"<string>\", line 1, in <module>\n",
      "      File \"/private/var/folders/h9/d_5kr6xn59dc2d8szjycvyph0000gn/T/pip-install-guwkraq9/ruamel-yaml-conda/setup.py\", line 35, in <module>\n",
      "        ext_modules=cythonize(extensions),\n",
      "      File \"/usr/local/Caskroom/miniconda/base/lib/python3.8/site-packages/Cython/Build/Dependencies.py\", line 970, in cythonize\n",
      "        module_list, module_metadata = create_extension_list(\n",
      "      File \"/usr/local/Caskroom/miniconda/base/lib/python3.8/site-packages/Cython/Build/Dependencies.py\", line 816, in create_extension_list\n",
      "        for file in nonempty(sorted(extended_iglob(filepattern)), \"'%s' doesn't match any files\" % filepattern):\n",
      "      File \"/usr/local/Caskroom/miniconda/base/lib/python3.8/site-packages/Cython/Build/Dependencies.py\", line 114, in nonempty\n",
      "        raise ValueError(error_msg)\n",
      "    ValueError: 'ruamel_yaml/ext/_ruamel_yaml.pyx' doesn't match any files\n",
      "    ----------------------------------------\u001b[0m\n",
      "\u001b[31mERROR: Command errored out with exit status 1: python setup.py egg_info Check the logs for full command output.\u001b[0m\n",
      "Requirement already satisfied: pymystem3 in /usr/local/Caskroom/miniconda/base/lib/python3.8/site-packages (0.2.0)\n",
      "Requirement already satisfied: selenium in /usr/local/Caskroom/miniconda/base/lib/python3.8/site-packages (4.1.3)\n",
      "Requirement already satisfied: html2text in /usr/local/Caskroom/miniconda/base/lib/python3.8/site-packages (2020.1.16)\n",
      "Requirement already satisfied: requests in /usr/local/Caskroom/miniconda/base/lib/python3.8/site-packages (2.26.0)\n",
      "Requirement already satisfied: beautifulsoup4 in /usr/local/Caskroom/miniconda/base/lib/python3.8/site-packages (4.9.3)\n",
      "Requirement already satisfied: atlas in /usr/local/Caskroom/miniconda/base/lib/python3.8/site-packages (0.27.0)\n",
      "Requirement already satisfied: json2xml in /usr/local/Caskroom/miniconda/base/lib/python3.8/site-packages (3.16.0)\n",
      "Requirement already satisfied: threadpool>=1.2.4 in /usr/local/Caskroom/miniconda/base/lib/python3.8/site-packages (from atlas) (1.3.2)\n",
      "Requirement already satisfied: requests in /usr/local/Caskroom/miniconda/base/lib/python3.8/site-packages (2.26.0)\n",
      "Requirement already satisfied: soupsieve>1.2 in /usr/local/Caskroom/miniconda/base/lib/python3.8/site-packages (from beautifulsoup4) (2.2.1)\n",
      "Requirement already satisfied: xmltodict==0.12.0 in /usr/local/Caskroom/miniconda/base/lib/python3.8/site-packages (from json2xml) (0.12.0)\n",
      "Requirement already satisfied: charset-normalizer==2.0.6 in /usr/local/Caskroom/miniconda/base/lib/python3.8/site-packages (from json2xml) (2.0.6)\n",
      "Requirement already satisfied: defusedxml==0.7.1 in /usr/local/Caskroom/miniconda/base/lib/python3.8/site-packages (from json2xml) (0.7.1)\n",
      "Requirement already satisfied: requests in /usr/local/Caskroom/miniconda/base/lib/python3.8/site-packages (2.26.0)\n",
      "Requirement already satisfied: certifi==2021.5.30 in /usr/local/Caskroom/miniconda/base/lib/python3.8/site-packages (from json2xml) (2021.5.30)\n",
      "Requirement already satisfied: urllib3==1.26.7 in /usr/local/Caskroom/miniconda/base/lib/python3.8/site-packages (from json2xml) (1.26.7)\n",
      "Requirement already satisfied: idna==3.2 in /usr/local/Caskroom/miniconda/base/lib/python3.8/site-packages (from json2xml) (3.2)\n",
      "Requirement already satisfied: idna==3.2 in /usr/local/Caskroom/miniconda/base/lib/python3.8/site-packages (from json2xml) (3.2)\n",
      "Requirement already satisfied: charset-normalizer==2.0.6 in /usr/local/Caskroom/miniconda/base/lib/python3.8/site-packages (from json2xml) (2.0.6)\n",
      "Requirement already satisfied: urllib3==1.26.7 in /usr/local/Caskroom/miniconda/base/lib/python3.8/site-packages (from json2xml) (1.26.7)\n",
      "Requirement already satisfied: certifi==2021.5.30 in /usr/local/Caskroom/miniconda/base/lib/python3.8/site-packages (from json2xml) (2021.5.30)\n",
      "Requirement already satisfied: urllib3[secure,socks]~=1.26 in /usr/local/Caskroom/miniconda/base/lib/python3.8/site-packages (from selenium) (1.26.7)\n",
      "Requirement already satisfied: trio~=0.17 in /usr/local/Caskroom/miniconda/base/lib/python3.8/site-packages (from selenium) (0.20.0)\n",
      "Requirement already satisfied: trio-websocket~=0.9 in /usr/local/Caskroom/miniconda/base/lib/python3.8/site-packages (from selenium) (0.9.2)\n",
      "Requirement already satisfied: wsproto>=0.14 in /usr/local/Caskroom/miniconda/base/lib/python3.8/site-packages (from trio-websocket~=0.9->selenium) (1.1.0)\n",
      "Requirement already satisfied: async-generator>=1.10 in /usr/local/Caskroom/miniconda/base/lib/python3.8/site-packages (from trio-websocket~=0.9->selenium) (1.10)\n",
      "Requirement already satisfied: trio~=0.17 in /usr/local/Caskroom/miniconda/base/lib/python3.8/site-packages (from selenium) (0.20.0)\n",
      "Requirement already satisfied: idna==3.2 in /usr/local/Caskroom/miniconda/base/lib/python3.8/site-packages (from json2xml) (3.2)\n",
      "Requirement already satisfied: async-generator>=1.10 in /usr/local/Caskroom/miniconda/base/lib/python3.8/site-packages (from trio-websocket~=0.9->selenium) (1.10)\n",
      "Requirement already satisfied: sortedcontainers in /usr/local/Caskroom/miniconda/base/lib/python3.8/site-packages (from trio~=0.17->selenium) (2.4.0)\n",
      "Requirement already satisfied: sniffio in /usr/local/Caskroom/miniconda/base/lib/python3.8/site-packages (from trio~=0.17->selenium) (1.2.0)\n",
      "Requirement already satisfied: attrs>=19.2.0 in /usr/local/Caskroom/miniconda/base/lib/python3.8/site-packages (from trio~=0.17->selenium) (20.2.0)\n",
      "Requirement already satisfied: outcome in /usr/local/Caskroom/miniconda/base/lib/python3.8/site-packages (from trio~=0.17->selenium) (1.1.0)\n",
      "Requirement already satisfied: attrs>=19.2.0 in /usr/local/Caskroom/miniconda/base/lib/python3.8/site-packages (from trio~=0.17->selenium) (20.2.0)\n",
      "Requirement already satisfied: h11<1,>=0.9.0 in /usr/local/Caskroom/miniconda/base/lib/python3.8/site-packages (from wsproto>=0.14->trio-websocket~=0.9->selenium) (0.13.0)\n",
      "Requirement already satisfied: PySocks!=1.5.7,<2.0,>=1.5.6 in /usr/local/Caskroom/miniconda/base/lib/python3.8/site-packages (from urllib3[secure,socks]~=1.26->selenium) (1.7.1)\n",
      "Requirement already satisfied: certifi==2021.5.30 in /usr/local/Caskroom/miniconda/base/lib/python3.8/site-packages (from json2xml) (2021.5.30)\n",
      "Requirement already satisfied: idna==3.2 in /usr/local/Caskroom/miniconda/base/lib/python3.8/site-packages (from json2xml) (3.2)\n",
      "Requirement already satisfied: pyOpenSSL>=0.14 in /usr/local/Caskroom/miniconda/base/lib/python3.8/site-packages (from urllib3[secure,socks]~=1.26->selenium) (19.1.0)\n",
      "Requirement already satisfied: cryptography>=1.3.4 in /usr/local/Caskroom/miniconda/base/lib/python3.8/site-packages (from urllib3[secure,socks]~=1.26->selenium) (3.1)\n",
      "Requirement already satisfied: six>=1.5.2 in /usr/local/Caskroom/miniconda/base/lib/python3.8/site-packages (from pyOpenSSL>=0.14->urllib3[secure,socks]~=1.26->selenium) (1.15.0)\n",
      "Requirement already satisfied: cryptography>=1.3.4 in /usr/local/Caskroom/miniconda/base/lib/python3.8/site-packages (from urllib3[secure,socks]~=1.26->selenium) (3.1)\n",
      "Requirement already satisfied: cffi!=1.11.3,>=1.8 in /usr/local/Caskroom/miniconda/base/lib/python3.8/site-packages (from cryptography>=1.3.4->urllib3[secure,socks]~=1.26->selenium) (1.14.2)\n"
     ]
    },
    {
     "name": "stdout",
     "output_type": "stream",
     "text": [
      "Requirement already satisfied: six>=1.5.2 in /usr/local/Caskroom/miniconda/base/lib/python3.8/site-packages (from pyOpenSSL>=0.14->urllib3[secure,socks]~=1.26->selenium) (1.15.0)\n",
      "Requirement already satisfied: pycparser in /usr/local/Caskroom/miniconda/base/lib/python3.8/site-packages (from cffi!=1.11.3,>=1.8->cryptography>=1.3.4->urllib3[secure,socks]~=1.26->selenium) (2.20)\n"
     ]
    }
   ],
   "source": [
    "!pip install --upgrade cython\n",
    "!pip install ruamel-yaml-conda\n",
    "!pip install pymystem3 selenium html2text requests beautifulsoup4 atlas json2xml --use-feature=2020-resolver\n",
    "!brew install chromedriver"
   ]
  },
  {
   "cell_type": "code",
   "execution_count": 6,
   "metadata": {},
   "outputs": [],
   "source": [
    "from selenium.webdriver import Chrome\n",
    "from selenium.webdriver.chrome.options import Options\n",
    "\n",
    "from time import sleep\n",
    "# import tqdm\n",
    "from tqdm.notebook import tqdm\n",
    "import json\n",
    "import time\n",
    "\n",
    "\n",
    "import requests\n",
    "from bs4 import BeautifulSoup\n",
    "from html2text import html2text\n",
    "\n",
    "import pandas as pd\n",
    "\n",
    "from sklearn.feature_extraction.text import CountVectorizer\n",
    "from IPython.display import clear_output\n",
    "\n",
    "import warnings\n",
    "warnings.filterwarnings('ignore')"
   ]
  },
  {
   "cell_type": "code",
   "execution_count": 7,
   "metadata": {},
   "outputs": [],
   "source": [
    "json_filename = \"data.json\"\n",
    "categories = [\"transport\", \"auto\", \"health\", \"incidents\"]"
   ]
  },
  {
   "cell_type": "code",
   "execution_count": 8,
   "metadata": {},
   "outputs": [],
   "source": [
    "chrome_driver_path = \"/opt/homebrew/bin/chromedriver\" #!which chromedriver - for get path in system"
   ]
  },
  {
   "cell_type": "markdown",
   "metadata": {},
   "source": [
    "## Парсинг новостного портала\n"
   ]
  },
  {
   "cell_type": "markdown",
   "metadata": {},
   "source": [
    "Поскольку новостной агрегатор который я использовал в Лабе 1 теперь является запрщенным, я принял решение перейти на парсинг данных с популярного локального портала nn.ru"
   ]
  },
  {
   "cell_type": "code",
   "execution_count": 31,
   "metadata": {},
   "outputs": [
    {
     "name": "stdout",
     "output_type": "stream",
     "text": [
      "\n",
      "\n",
      "\n",
      "\n",
      "\n",
      "\n"
     ]
    }
   ],
   "source": [
    "# The function extracts article data from www.nn.ru and writes it in JSON format to out_filename\n",
    "# The extracted data is: \n",
    "# - article link (article_id) \n",
    "# - article title \n",
    "# - article category\n",
    "# - article tags \n",
    "# - article text\n",
    "# The category and number of articles is specified by categories and article_num respectively\n",
    "\n",
    "def parse_nnru(article_num, categories, out_filename, progress_bar=True):\n",
    "    # progress bar setup   \n",
    "    if progress_bar:\n",
    "        category_bar = tqdm(range(len(categories)), desc = 'Category progress')\n",
    "        article_bar = tqdm(range(article_num), desc = 'Article progress', leave = False)\n",
    "\n",
    "    # create output json file\n",
    "    with open(out_filename,'w', encoding=\"utf-8\") as file:\n",
    "        pass\n",
    "    \n",
    "    # set Chrome options and preferences\n",
    "    prefs = {\"profile.managed_default_content_settings.images\": 2,\n",
    "             \"profile.default_content_settings.cookies\": 2}\n",
    "    chrome_options = Options()\n",
    "    chrome_options.add_extension('adblock.crx')\n",
    "    chrome_options.add_experimental_option(\"prefs\",prefs) \n",
    "    chrome_options.add_argument('--disable-application-cache')\n",
    "    \n",
    "    driver = Chrome(executable_path=chrome_driver_path, chrome_options=chrome_options)\n",
    "    driver.implicitly_wait(10)\n",
    "    driver.close()\n",
    "    print(\"Current session is {}\".format(driver.session_id))\n",
    "    driver.switch_to.window(driver.window_handles[0])\n",
    "    \n",
    "    driver.get('chrome-extension://gighmmpiobklfepjocnamgkkbiglidom/options.html')\n",
    "    driver.find_element_by_id('acceptable_ads').click() # adblock customization\n",
    "       \n",
    "    for category in categories:\n",
    "        # progress bar\n",
    "        if progress_bar:\n",
    "            category_bar.update(1)\n",
    "            article_bar.reset()\n",
    "            \n",
    "        article_count = 0\n",
    "        page = 1       \n",
    "        while(1):\n",
    "            while_break_flag = False # used to break while(1) from the nested for-loop\n",
    "            \n",
    "            driver.get(f'https://www.nn.ru/text/?rubric={category}&page={page}')           \n",
    "            \n",
    "            #for element in driver.find_elements_by_xpath(\"//article\"):\n",
    "            for element in driver.find_elements_by_xpath(\"//*[@class='_3-SyJ']\"): # tags with this specific class contain article previews\n",
    "                json_dict = {}            \n",
    "                # article's link  \n",
    "                json_dict['article_id'] = element.find_element_by_tag_name('a').get_attribute('href')\n",
    "                \n",
    "                soup = BeautifulSoup(requests.get(json_dict['article_id']).text, \"lxml\")            \n",
    "\n",
    "                # article's title \n",
    "                json_dict['title'] = ''\n",
    "                title = soup.find('h1', attrs={'itemprop': 'headline'}, recursive=True)\n",
    "                if title is None:\n",
    "                    continue\n",
    "                else:\n",
    "                    json_dict['title'] = title.getText()\n",
    "                \n",
    "                # article's category  \n",
    "                json_dict['category'] = category\n",
    "\n",
    "                # article's tags        \n",
    "                json_dict['tags'] = []\n",
    "                div_tags = soup.find('div', attrs={'class': '_2TvYC'}, recursive=True) # <div class=\"_2TvYC\"> contains tags of an article\n",
    "                if div_tags is not None: # some articles may not have tags at all            \n",
    "                    div_tags_children = div_tags.findChildren('span')\n",
    "                    for child in div_tags_children: # iterate over <span> children\n",
    "                        json_dict['tags'].append(child.getText()) # transform type bs4.element.Tag into str and append to a list\n",
    "                else:\n",
    "                    #continue\n",
    "                    pass\n",
    "                \n",
    "                # article's text \n",
    "                json_dict['text'] = ''\n",
    "                div_article = soup.find('div', attrs={'itemprop': 'articleBody'}) # find a <div>, which contains the article itself\n",
    "                if div_article is None: # if the div with an article hasn't been found\n",
    "                    continue                \n",
    "                for figure_tag in div_article.find_all('figure', attrs={'itemscope': 'itemscope'}):\n",
    "                    figure_tag.extract() # remove all <figure itemscope='itemscoppe'> tags, which contain images and image-related text\n",
    "                text = ''\n",
    "                for paragraph in div_article.find_all(['p', 'li'], attrs={'class': ''}):\n",
    "                    json_dict['text'] += paragraph.getText(separator=\" \") + ' ' # s\n",
    "                    # NOTE: there may be double spaces in some places\n",
    "                \n",
    "                # write data to output json file                \n",
    "                with open(out_filename,'a', encoding=\"utf-8\") as file:\n",
    "                    file.write(json.dumps(json_dict, ensure_ascii=False) + '\\n')\n",
    "                \n",
    "                # progress bar\n",
    "                if progress_bar:\n",
    "                    article_bar.update(1)\n",
    "    \n",
    "                # check whether the number of articles is sufficient\n",
    "                article_count+=1\n",
    "                if article_count >= article_num:\n",
    "                    while_break_flag = True\n",
    "                    break\n",
    "                \n",
    "            if while_break_flag is True: # break the while-loop from the inner for-loop if the amount of fetched articles is sufficient\n",
    "                break\n",
    "            else:\n",
    "                page+= 1 # otherwise, fetch articles from the next page    \n",
    "        \n",
    "    driver.quit()\n"
   ]
  },
  {
   "cell_type": "code",
   "execution_count": 32,
   "metadata": {
    "scrolled": false
   },
   "outputs": [
    {
     "data": {
      "application/vnd.jupyter.widget-view+json": {
       "model_id": "86ee9f901dcc455cbe67024c81d347ec",
       "version_major": 2,
       "version_minor": 0
      },
      "text/plain": [
       "HBox(children=(FloatProgress(value=0.0, description='Category progress', max=4.0, style=ProgressStyle(descript…"
      ]
     },
     "metadata": {},
     "output_type": "display_data"
    },
    {
     "data": {
      "application/vnd.jupyter.widget-view+json": {
       "model_id": "",
       "version_major": 2,
       "version_minor": 0
      },
      "text/plain": [
       "HBox(children=(FloatProgress(value=0.0, description='Article progress', max=1000.0, style=ProgressStyle(descri…"
      ]
     },
     "metadata": {},
     "output_type": "display_data"
    },
    {
     "name": "stdout",
     "output_type": "stream",
     "text": [
      "Current session is 72247f869e9456b5048873d35910c51b\n"
     ]
    }
   ],
   "source": [
    "parse_nnru(1000, categories, json_filename)"
   ]
  },
  {
   "cell_type": "code",
   "execution_count": 33,
   "metadata": {
    "scrolled": false
   },
   "outputs": [
    {
     "data": {
      "text/html": [
       "<div>\n",
       "<style scoped>\n",
       "    .dataframe tbody tr th:only-of-type {\n",
       "        vertical-align: middle;\n",
       "    }\n",
       "\n",
       "    .dataframe tbody tr th {\n",
       "        vertical-align: top;\n",
       "    }\n",
       "\n",
       "    .dataframe thead th {\n",
       "        text-align: right;\n",
       "    }\n",
       "</style>\n",
       "<table border=\"1\" class=\"dataframe\">\n",
       "  <thead>\n",
       "    <tr style=\"text-align: right;\">\n",
       "      <th></th>\n",
       "      <th>article_id</th>\n",
       "      <th>title</th>\n",
       "      <th>category</th>\n",
       "      <th>tags</th>\n",
       "      <th>text</th>\n",
       "    </tr>\n",
       "  </thead>\n",
       "  <tbody>\n",
       "    <tr>\n",
       "      <th>0</th>\n",
       "      <td>https://www.nn.ru/text/gorod/2022/03/27/70535720/</td>\n",
       "      <td>Нижегородец продает на «Авито» бигмак по цене ...</td>\n",
       "      <td>transport</td>\n",
       "      <td>[«Авито», «индекс Биг Мака», странные товары с...</td>\n",
       "      <td>Жители Нижегородской области могут приобрести ...</td>\n",
       "    </tr>\n",
       "    <tr>\n",
       "      <th>1</th>\n",
       "      <td>https://www.nn.ru/text/transport/2022/03/27/70...</td>\n",
       "      <td>Часть улиц Студеная и Максима Горького в Нижне...</td>\n",
       "      <td>transport</td>\n",
       "      <td>[Нижний Новгород, метро, перекрытие движения]</td>\n",
       "      <td>Рабочие перекрыли участки улиц Студеная и Макс...</td>\n",
       "    </tr>\n",
       "    <tr>\n",
       "      <th>2</th>\n",
       "      <td>https://www.nn.ru/text/house/2022/03/27/70532957/</td>\n",
       "      <td>14 ошибок при стирке, которые обходятся вам сл...</td>\n",
       "      <td>transport</td>\n",
       "      <td>[лайфхаки, стиральная машинка, уборка, стирка]</td>\n",
       "      <td>Вот уж кому было несладко, так это нашим бабуш...</td>\n",
       "    </tr>\n",
       "    <tr>\n",
       "      <th>3</th>\n",
       "      <td>https://www.nn.ru/text/education/2022/03/27/70...</td>\n",
       "      <td>Новый сезон битвы молодых ученых Science Slam ...</td>\n",
       "      <td>transport</td>\n",
       "      <td>[Science Slam, ННГУ им. Лобачевского, наука]</td>\n",
       "      <td>Открыт прием заявок на участие в битве молодых...</td>\n",
       "    </tr>\n",
       "    <tr>\n",
       "      <th>4</th>\n",
       "      <td>https://www.nn.ru/text/entertainment/2022/03/2...</td>\n",
       "      <td>«На лавочке семечки щелкать — не для меня»: ка...</td>\n",
       "      <td>transport</td>\n",
       "      <td>[pole dance, таксистка, танцы на пилоне]</td>\n",
       "      <td>Днем Евгения Лоскутова крутит руль иномарки, а...</td>\n",
       "    </tr>\n",
       "    <tr>\n",
       "      <th>...</th>\n",
       "      <td>...</td>\n",
       "      <td>...</td>\n",
       "      <td>...</td>\n",
       "      <td>...</td>\n",
       "      <td>...</td>\n",
       "    </tr>\n",
       "    <tr>\n",
       "      <th>3995</th>\n",
       "      <td>https://www.nn.ru/text/health/2022/02/08/70428...</td>\n",
       "      <td>«Поликлиники превращаются в рассадники инфекци...</td>\n",
       "      <td>incidents</td>\n",
       "      <td>[коронавирус, Алексей Кокунин, омикрон]</td>\n",
       "      <td>За неделю в Нижегородской области суточный при...</td>\n",
       "    </tr>\n",
       "    <tr>\n",
       "      <th>3996</th>\n",
       "      <td>https://www.nn.ru/text/health/2022/02/07/70429...</td>\n",
       "      <td>В Нижнем Новгороде начали оформлять больничные...</td>\n",
       "      <td>incidents</td>\n",
       "      <td>[больничный, коронавирус]</td>\n",
       "      <td>С сегодняшнего дня нижегородцы смогут  открыть...</td>\n",
       "    </tr>\n",
       "    <tr>\n",
       "      <th>3997</th>\n",
       "      <td>https://www.nn.ru/text/health/2022/02/07/70428...</td>\n",
       "      <td>Дистанта не будет. Оперштаб пока не собирается...</td>\n",
       "      <td>incidents</td>\n",
       "      <td>[Нижний Новгород, оперштаб по борьбе с коронав...</td>\n",
       "      <td>Оперативный штаб по коронавирусу решил пока не...</td>\n",
       "    </tr>\n",
       "    <tr>\n",
       "      <th>3998</th>\n",
       "      <td>https://www.nn.ru/text/gorod/2022/02/07/70428146/</td>\n",
       "      <td>Выпуск программы «Непутевые заметки» сняли в Н...</td>\n",
       "      <td>incidents</td>\n",
       "      <td>[«Непутевые заметки», Нижний Новгород]</td>\n",
       "      <td>Выпуск программы «Непутевые заметки» сняли в Н...</td>\n",
       "    </tr>\n",
       "    <tr>\n",
       "      <th>3999</th>\n",
       "      <td>https://www.nn.ru/text/incidents/2022/02/07/70...</td>\n",
       "      <td>Нижегородца сбил мусоровоз в жилом комплексе «...</td>\n",
       "      <td>incidents</td>\n",
       "      <td>[Минздрав, Нижегородская область, авария, мусо...</td>\n",
       "      <td>Нижегородца сбил мусоровоз в жилом комплексе «...</td>\n",
       "    </tr>\n",
       "  </tbody>\n",
       "</table>\n",
       "<p>4000 rows × 5 columns</p>\n",
       "</div>"
      ],
      "text/plain": [
       "                                             article_id  \\\n",
       "0     https://www.nn.ru/text/gorod/2022/03/27/70535720/   \n",
       "1     https://www.nn.ru/text/transport/2022/03/27/70...   \n",
       "2     https://www.nn.ru/text/house/2022/03/27/70532957/   \n",
       "3     https://www.nn.ru/text/education/2022/03/27/70...   \n",
       "4     https://www.nn.ru/text/entertainment/2022/03/2...   \n",
       "...                                                 ...   \n",
       "3995  https://www.nn.ru/text/health/2022/02/08/70428...   \n",
       "3996  https://www.nn.ru/text/health/2022/02/07/70429...   \n",
       "3997  https://www.nn.ru/text/health/2022/02/07/70428...   \n",
       "3998  https://www.nn.ru/text/gorod/2022/02/07/70428146/   \n",
       "3999  https://www.nn.ru/text/incidents/2022/02/07/70...   \n",
       "\n",
       "                                                  title   category  \\\n",
       "0     Нижегородец продает на «Авито» бигмак по цене ...  transport   \n",
       "1     Часть улиц Студеная и Максима Горького в Нижне...  transport   \n",
       "2     14 ошибок при стирке, которые обходятся вам сл...  transport   \n",
       "3     Новый сезон битвы молодых ученых Science Slam ...  transport   \n",
       "4     «На лавочке семечки щелкать — не для меня»: ка...  transport   \n",
       "...                                                 ...        ...   \n",
       "3995  «Поликлиники превращаются в рассадники инфекци...  incidents   \n",
       "3996  В Нижнем Новгороде начали оформлять больничные...  incidents   \n",
       "3997  Дистанта не будет. Оперштаб пока не собирается...  incidents   \n",
       "3998  Выпуск программы «Непутевые заметки» сняли в Н...  incidents   \n",
       "3999  Нижегородца сбил мусоровоз в жилом комплексе «...  incidents   \n",
       "\n",
       "                                                   tags  \\\n",
       "0     [«Авито», «индекс Биг Мака», странные товары с...   \n",
       "1         [Нижний Новгород, метро, перекрытие движения]   \n",
       "2        [лайфхаки, стиральная машинка, уборка, стирка]   \n",
       "3          [Science Slam, ННГУ им. Лобачевского, наука]   \n",
       "4              [pole dance, таксистка, танцы на пилоне]   \n",
       "...                                                 ...   \n",
       "3995            [коронавирус, Алексей Кокунин, омикрон]   \n",
       "3996                          [больничный, коронавирус]   \n",
       "3997  [Нижний Новгород, оперштаб по борьбе с коронав...   \n",
       "3998             [«Непутевые заметки», Нижний Новгород]   \n",
       "3999  [Минздрав, Нижегородская область, авария, мусо...   \n",
       "\n",
       "                                                   text  \n",
       "0     Жители Нижегородской области могут приобрести ...  \n",
       "1     Рабочие перекрыли участки улиц Студеная и Макс...  \n",
       "2     Вот уж кому было несладко, так это нашим бабуш...  \n",
       "3     Открыт прием заявок на участие в битве молодых...  \n",
       "4     Днем Евгения Лоскутова крутит руль иномарки, а...  \n",
       "...                                                 ...  \n",
       "3995  За неделю в Нижегородской области суточный при...  \n",
       "3996  С сегодняшнего дня нижегородцы смогут  открыть...  \n",
       "3997  Оперативный штаб по коронавирусу решил пока не...  \n",
       "3998  Выпуск программы «Непутевые заметки» сняли в Н...  \n",
       "3999  Нижегородца сбил мусоровоз в жилом комплексе «...  \n",
       "\n",
       "[4000 rows x 5 columns]"
      ]
     },
     "execution_count": 33,
     "metadata": {},
     "output_type": "execute_result"
    }
   ],
   "source": [
    "data = pd.read_json(json_filename, lines=True)\n",
    "data"
   ]
  },
  {
   "cell_type": "markdown",
   "metadata": {},
   "source": [
    "## Lab 2\n"
   ]
  },
  {
   "cell_type": "code",
   "execution_count": 34,
   "metadata": {},
   "outputs": [
    {
     "name": "stdout",
     "output_type": "stream",
     "text": [
      "Collecting nltk\n",
      "  Downloading nltk-3.7-py3-none-any.whl (1.5 MB)\n",
      "\u001b[K     |████████████████████████████████| 1.5 MB 1.2 MB/s eta 0:00:01\n",
      "\u001b[?25hRequirement already satisfied: sklearn in /usr/local/Caskroom/miniconda/base/lib/python3.8/site-packages (0.0)\n",
      "Collecting wordcloud\n",
      "  Downloading wordcloud-1.8.1.tar.gz (220 kB)\n",
      "\u001b[K     |████████████████████████████████| 220 kB 346 kB/s eta 0:00:01\n",
      "\u001b[?25hCollecting pymorphy2\n",
      "  Downloading pymorphy2-0.9.1-py3-none-any.whl (55 kB)\n",
      "\u001b[K     |████████████████████████████████| 55 kB 5.1 MB/s eta 0:00:011\n",
      "\u001b[?25hCollecting stop_words\n",
      "  Downloading stop-words-2018.7.23.tar.gz (31 kB)\n",
      "Requirement already satisfied: tqdm in /usr/local/Caskroom/miniconda/base/lib/python3.8/site-packages (from nltk) (4.48.2)\n",
      "Collecting regex>=2021.8.3\n",
      "  Downloading regex-2022.3.15-cp38-cp38-macosx_10_9_x86_64.whl (289 kB)\n",
      "\u001b[K     |████████████████████████████████| 289 kB 5.3 MB/s eta 0:00:01\n",
      "\u001b[?25hRequirement already satisfied: joblib in /usr/local/Caskroom/miniconda/base/lib/python3.8/site-packages (from nltk) (0.17.0)\n",
      "Collecting click\n",
      "  Downloading click-8.0.4-py3-none-any.whl (97 kB)\n",
      "\u001b[K     |████████████████████████████████| 97 kB 6.5 MB/s eta 0:00:01\n",
      "\u001b[?25hRequirement already satisfied: scikit-learn in /usr/local/Caskroom/miniconda/base/lib/python3.8/site-packages (from sklearn) (0.23.2)\n",
      "Requirement already satisfied: numpy>=1.6.1 in /usr/local/Caskroom/miniconda/base/lib/python3.8/site-packages (from wordcloud) (1.19.1)\n",
      "Requirement already satisfied: pillow in /usr/local/Caskroom/miniconda/base/lib/python3.8/site-packages (from wordcloud) (8.0.1)\n",
      "Requirement already satisfied: matplotlib in /usr/local/Caskroom/miniconda/base/lib/python3.8/site-packages (from wordcloud) (3.3.2)\n",
      "Collecting pymorphy2-dicts-ru<3.0,>=2.4\n",
      "  Downloading pymorphy2_dicts_ru-2.4.417127.4579844-py2.py3-none-any.whl (8.2 MB)\n",
      "\u001b[K     |████████████████████████████████| 8.2 MB 2.6 MB/s eta 0:00:01\n",
      "\u001b[?25hRequirement already satisfied: docopt>=0.6 in /usr/local/Caskroom/miniconda/base/lib/python3.8/site-packages (from pymorphy2) (0.6.2)\n",
      "Collecting dawg-python>=0.7.1\n",
      "  Downloading DAWG_Python-0.7.2-py2.py3-none-any.whl (11 kB)\n",
      "Requirement already satisfied: scipy>=0.19.1 in /usr/local/Caskroom/miniconda/base/lib/python3.8/site-packages (from scikit-learn->sklearn) (1.5.3)\n",
      "Requirement already satisfied: threadpoolctl>=2.0.0 in /usr/local/Caskroom/miniconda/base/lib/python3.8/site-packages (from scikit-learn->sklearn) (2.1.0)\n",
      "Requirement already satisfied: certifi>=2020.06.20 in /usr/local/Caskroom/miniconda/base/lib/python3.8/site-packages (from matplotlib->wordcloud) (2021.5.30)\n",
      "Requirement already satisfied: python-dateutil>=2.1 in /usr/local/Caskroom/miniconda/base/lib/python3.8/site-packages (from matplotlib->wordcloud) (2.8.1)\n",
      "Requirement already satisfied: pyparsing!=2.0.4,!=2.1.2,!=2.1.6,>=2.0.3 in /usr/local/Caskroom/miniconda/base/lib/python3.8/site-packages (from matplotlib->wordcloud) (2.4.7)\n",
      "Requirement already satisfied: cycler>=0.10 in /usr/local/Caskroom/miniconda/base/lib/python3.8/site-packages (from matplotlib->wordcloud) (0.10.0)\n",
      "Requirement already satisfied: kiwisolver>=1.0.1 in /usr/local/Caskroom/miniconda/base/lib/python3.8/site-packages (from matplotlib->wordcloud) (1.2.0)\n",
      "Requirement already satisfied: six>=1.5 in /usr/local/Caskroom/miniconda/base/lib/python3.8/site-packages (from python-dateutil>=2.1->matplotlib->wordcloud) (1.15.0)\n",
      "Building wheels for collected packages: wordcloud, stop-words\n",
      "  Building wheel for wordcloud (setup.py) ... \u001b[?25ldone\n",
      "\u001b[?25h  Created wheel for wordcloud: filename=wordcloud-1.8.1-cp38-cp38-macosx_10_9_x86_64.whl size=158439 sha256=fbbf766ffcc4d1f91a9ea9675547221db32f5576ef5aa4dc3407bb1f75bff6d3\n",
      "  Stored in directory: /Users/irazzivin/Library/Caches/pip/wheels/4d/3f/0d/a2ba9b7895c9f1be89018b3141c3df3d4f9c786c882ccfbc3b\n",
      "  Building wheel for stop-words (setup.py) ... \u001b[?25ldone\n",
      "\u001b[?25h  Created wheel for stop-words: filename=stop_words-2018.7.23-py3-none-any.whl size=32915 sha256=ce9b189eac4c5e03965e18124d24fb52387519a6c8d92ff3aaa19411d8b0e5c0\n",
      "  Stored in directory: /Users/irazzivin/Library/Caches/pip/wheels/eb/03/0d/3bd31c983789aeb0b4d5e2ca48590288d9db1586cf5f225062\n",
      "Successfully built wordcloud stop-words\n",
      "Installing collected packages: regex, click, nltk, wordcloud, pymorphy2-dicts-ru, dawg-python, pymorphy2, stop-words\n",
      "Successfully installed click-8.0.4 dawg-python-0.7.2 nltk-3.7 pymorphy2-0.9.1 pymorphy2-dicts-ru-2.4.417127.4579844 regex-2022.3.15 stop-words-2018.7.23 wordcloud-1.8.1\n"
     ]
    }
   ],
   "source": [
    "!pip install nltk sklearn wordcloud pymorphy2 stop_words"
   ]
  },
  {
   "cell_type": "code",
   "execution_count": 35,
   "metadata": {},
   "outputs": [
    {
     "name": "stdout",
     "output_type": "stream",
     "text": [
      "\n"
     ]
    },
    {
     "name": "stderr",
     "output_type": "stream",
     "text": [
      "[nltk_data] Downloading package stopwords to\n",
      "[nltk_data]     /Users/irazzivin/nltk_data...\n",
      "[nltk_data]   Unzipping corpora/stopwords.zip.\n",
      "[nltk_data] Downloading package punkt to /Users/irazzivin/nltk_data...\n",
      "[nltk_data]   Unzipping tokenizers/punkt.zip.\n"
     ]
    }
   ],
   "source": [
    "import pandas as pd\n",
    "import numpy as np\n",
    "import matplotlib.pyplot as plt\n",
    "import re\n",
    "import string\n",
    "import pymorphy2\n",
    "from scipy.sparse import *\n",
    "import stop_words\n",
    "import nltk\n",
    "nltk.download('stopwords')\n",
    "nltk.download('punkt')\n",
    "from nltk.stem.snowball import RussianStemmer\n",
    "from nltk.tokenize import sent_tokenize, word_tokenize \n",
    "from nltk.stem import PorterStemmer, WordNetLemmatizer\n",
    "from nltk.corpus import stopwords\n",
    "\n",
    "from sklearn.feature_extraction.text import TfidfVectorizer\n",
    "from tqdm.notebook import tqdm\n",
    "\n",
    "%matplotlib inline"
   ]
  },
  {
   "cell_type": "code",
   "execution_count": 36,
   "metadata": {
    "scrolled": true
   },
   "outputs": [],
   "source": [
    "raw_data = pd.read_json(json_filename, lines=True)"
   ]
  },
  {
   "cell_type": "markdown",
   "metadata": {},
   "source": [
    "### 1. Предпроцессинг текста"
   ]
  },
  {
   "cell_type": "code",
   "execution_count": 37,
   "metadata": {
    "scrolled": true
   },
   "outputs": [],
   "source": [
    "# the function preprocesses input text, i. e. removes digits, punctuation, special characters, etc.\n",
    "# and converts words to normal form.\n",
    "# As for return value, the preprocessed text is either left as is, tokenized by words or tokenized by sentences.\n",
    "\n",
    "def preprocess_text(input_text, tokenize_by='sentence'):\n",
    "    \n",
    "    if tokenize_by != 'word' and tokenize_by != 'sentence' and tokenize_by != 'text':\n",
    "        raise Exception(\"tokenize_by can only be 'word', 'sentence' or 'text'\")\n",
    "    \n",
    "    # copy a string\n",
    "    output_text = input_text[:]\n",
    "    \n",
    "    # convert letters to lowercase\n",
    "    output_text = output_text.lower() \n",
    "    \n",
    "    # remove multiple spaces \n",
    "    output_text = re.sub(r' +', \n",
    "                         ' ', \n",
    "                         output_text)\n",
    "    \n",
    "    # remove links\n",
    "    output_text = re.sub(r'((http|https)\\:\\/\\/)?[a-zA-Z0-9\\.\\/\\?\\:@\\-_=#]+\\.([a-zA-Z]){2,6}([a-zA-Z0-9\\.\\&\\/\\?\\:@\\-—_=#])*', \n",
    "                                          '', \n",
    "                                          output_text)\n",
    "    \n",
    "    # remove email addresses\n",
    "    output_text = re.sub(r'^([a-zA-Z0-9_\\-\\.]+)@([a-zA-Z0-9_\\-\\.]+)\\.([a-zA-Z]{2,5})$', \n",
    "                                          '', \n",
    "                                          output_text) \n",
    "\n",
    "    # remove phone numbers (not working)\n",
    "    output_text = re.sub(r'^(?:\\s*-*\\s*\\d){8}$', \n",
    "                                          '', \n",
    "                                          output_text)\n",
    "\n",
    "    # tokenize sentences\n",
    "    output_text = sent_tokenize(output_text) \n",
    "    \n",
    "    # remove special characters\n",
    "    special_chars = ''.join(['№', '«', 'ђ', '°', '±', '‚', 'ћ', '‰', '…', '»', 'ѓ', 'µ', '·', 'ґ', 'њ', 'ї', 'џ', 'є', '‹',\n",
    "                                '‡', '†', '¶', 'ќ', '€', '“', 'ў', '§', '„', '”', '\\ufeff', '’', 'љ', '›', '•', '—', '‘', \n",
    "                                '\\x7f', '\\xad', '¤', '\\xa0'])\n",
    "    regex_special_chars = re.compile(f'[{re.escape(special_chars)}]')\n",
    "    output_text = [regex_special_chars.sub('', sent) for sent in output_text]\n",
    "    \n",
    "    # remove all punctuation\n",
    "    regex_punct = re.compile(f'[{re.escape(string.punctuation)}]') # punctuation to exclude \n",
    "    output_text = [regex_punct.sub('', sent) for sent in output_text]\n",
    "    \n",
    "    # remove all digits\n",
    "    regex_dig = re.compile(f'[{re.escape(string.digits)}]')\n",
    "    output_text = [regex_dig.sub('', sent) for sent in output_text]\n",
    "    \n",
    "    # tokenize words \n",
    "    output_text = [word_tokenize(sent) for sent in output_text]\n",
    "    \n",
    "    # exclude stop-words\n",
    "    stop_words_list = stopwords.words('russian') # nltk package\n",
    "    # stop_words_list = stop_words.get_stop_words('russian') # stop_words package   \n",
    "    output_text = [[word for word in sent if word not in stop_words_list] for sent in output_text] # kinda unreadable?\n",
    "    \n",
    "    # lemmatize (convert words to the base/normal form)\n",
    "    morph = pymorphy2.MorphAnalyzer()\n",
    "    output_text = [[morph.parse(word)[0].normal_form for word in sent if word not in stop_words_list] for sent in output_text] \n",
    "    \n",
    "    if tokenize_by == 'word':  \n",
    "        return output_text\n",
    "    elif tokenize_by == 'sentence':\n",
    "        return [' '.join(sent) for sent in output_text]\n",
    "    elif tokenize_by == 'text':\n",
    "        return ' '.join([' '.join(sent) for sent in output_text])\n"
   ]
  },
  {
   "cell_type": "markdown",
   "metadata": {},
   "source": [
    "### 2. Векторизация текста (совместно с предпроцессингом)"
   ]
  },
  {
   "cell_type": "code",
   "execution_count": 38,
   "metadata": {
    "scrolled": false
   },
   "outputs": [],
   "source": [
    "# The function goes through the data from JSON, preprocesses the text of each entry using preprocess_text() function\n",
    "# and vectorizes the texts using TfidVectorizer()\n",
    "\n",
    "def vectorize_text_all(raw_input_data):\n",
    "    raw_input_data_len = raw_input_data.shape[0] # number of rows\n",
    "    # raw_input_data_len = 100\n",
    "    texts = []\n",
    "    y = [] \n",
    "\n",
    "    bar = tqdm(range(raw_input_data_len), desc = 'Article progress')\n",
    "    for i in range(raw_input_data_len):\n",
    "        texts.append(preprocess_text(raw_input_data['text'][i], tokenize_by='text'))\n",
    "        y.append(raw_input_data['category'][i])\n",
    "        bar.update(1)   \n",
    "    bar.close()\n",
    "\n",
    "    vectorizer = TfidfVectorizer()    \n",
    "    X = vectorizer.fit_transform(texts)\n",
    "    X = X.toarray()\n",
    "    X = pd.DataFrame(data=X, columns=vectorizer.get_feature_names())\n",
    "    \n",
    "    return X, y"
   ]
  },
  {
   "cell_type": "code",
   "execution_count": 39,
   "metadata": {
    "scrolled": true
   },
   "outputs": [
    {
     "data": {
      "application/vnd.jupyter.widget-view+json": {
       "model_id": "baf344add3c24710993304a8acfc6bf1",
       "version_major": 2,
       "version_minor": 0
      },
      "text/plain": [
       "HBox(children=(FloatProgress(value=0.0, description='Article progress', max=4000.0, style=ProgressStyle(descri…"
      ]
     },
     "metadata": {},
     "output_type": "display_data"
    },
    {
     "name": "stdout",
     "output_type": "stream",
     "text": [
      "\n"
     ]
    }
   ],
   "source": [
    "X, y = vectorize_text_all(raw_data)"
   ]
  },
  {
   "cell_type": "code",
   "execution_count": 81,
   "metadata": {
    "scrolled": false
   },
   "outputs": [
    {
     "data": {
      "application/vnd.jupyter.widget-view+json": {
       "model_id": "56025be96c1a42fa9152b63322732a78",
       "version_major": 2,
       "version_minor": 0
      },
      "text/plain": [
       "HBox(children=(FloatProgress(value=0.0, description='Article progress', style=ProgressStyle(description_width=…"
      ]
     },
     "metadata": {},
     "output_type": "display_data"
    },
    {
     "name": "stdout",
     "output_type": "stream",
     "text": [
      "\n",
      "\n"
     ]
    },
    {
     "ename": "NameError",
     "evalue": "name 'vectorizer' is not defined",
     "output_type": "error",
     "traceback": [
      "\u001b[0;31m---------------------------------------------------------------------------\u001b[0m",
      "\u001b[0;31mNameError\u001b[0m                                 Traceback (most recent call last)",
      "\u001b[0;32m<ipython-input-81-2890f3603d22>\u001b[0m in \u001b[0;36m<module>\u001b[0;34m\u001b[0m\n\u001b[1;32m     15\u001b[0m \u001b[0;34m\u001b[0m\u001b[0m\n\u001b[1;32m     16\u001b[0m     \u001b[0;32mreturn\u001b[0m \u001b[0mZ\u001b[0m\u001b[0;34m\u001b[0m\u001b[0;34m\u001b[0m\u001b[0m\n\u001b[0;32m---> 17\u001b[0;31m \u001b[0mresult\u001b[0m \u001b[0;34m=\u001b[0m \u001b[0mproc\u001b[0m\u001b[0;34m(\u001b[0m\u001b[0mraw_data\u001b[0m\u001b[0;34m)\u001b[0m\u001b[0;34m\u001b[0m\u001b[0;34m\u001b[0m\u001b[0m\n\u001b[0m",
      "\u001b[0;32m<ipython-input-81-2890f3603d22>\u001b[0m in \u001b[0;36mproc\u001b[0;34m(raw_input_data)\u001b[0m\n\u001b[1;32m     12\u001b[0m     \u001b[0mbar\u001b[0m\u001b[0;34m.\u001b[0m\u001b[0mclose\u001b[0m\u001b[0;34m(\u001b[0m\u001b[0;34m)\u001b[0m\u001b[0;34m\u001b[0m\u001b[0;34m\u001b[0m\u001b[0m\n\u001b[1;32m     13\u001b[0m \u001b[0;34m\u001b[0m\u001b[0m\n\u001b[0;32m---> 14\u001b[0;31m     \u001b[0mZ\u001b[0m \u001b[0;34m=\u001b[0m \u001b[0mpd\u001b[0m\u001b[0;34m.\u001b[0m\u001b[0mDataFrame\u001b[0m\u001b[0;34m(\u001b[0m\u001b[0mdata\u001b[0m\u001b[0;34m=\u001b[0m\u001b[0mX\u001b[0m\u001b[0;34m,\u001b[0m \u001b[0mcolumns\u001b[0m\u001b[0;34m=\u001b[0m\u001b[0mvectorizer\u001b[0m\u001b[0;34m.\u001b[0m\u001b[0mget_feature_names\u001b[0m\u001b[0;34m(\u001b[0m\u001b[0;34m)\u001b[0m\u001b[0;34m)\u001b[0m\u001b[0;34m\u001b[0m\u001b[0;34m\u001b[0m\u001b[0m\n\u001b[0m\u001b[1;32m     15\u001b[0m \u001b[0;34m\u001b[0m\u001b[0m\n\u001b[1;32m     16\u001b[0m     \u001b[0;32mreturn\u001b[0m \u001b[0mZ\u001b[0m\u001b[0;34m\u001b[0m\u001b[0;34m\u001b[0m\u001b[0m\n",
      "\u001b[0;31mNameError\u001b[0m: name 'vectorizer' is not defined"
     ]
    }
   ],
   "source": [
    "def proc(raw_input_data):\n",
    "    raw_input_data_len = raw_input_data.shape[0] # number of rows\n",
    "    raw_input_data_len = 100\n",
    "    texts = []\n",
    "    y = [] \n",
    "\n",
    "    bar = tqdm(range(raw_input_data_len), desc = 'Article progress')\n",
    "    for i in range(raw_input_data_len):\n",
    "        texts.append(preprocess_text(raw_input_data['text'][i], tokenize_by='text'))\n",
    "        y.append(raw_input_data['category'][i])\n",
    "        bar.update(1)   \n",
    "    bar.close()\n",
    "\n",
    "    Z = pd.DataFrame(data=X, columns=vectorizer.get_feature_names())\n",
    "    \n",
    "    return Z\n",
    "result = proc(raw_data)"
   ]
  },
  {
   "cell_type": "code",
   "execution_count": 82,
   "metadata": {},
   "outputs": [],
   "source": [
    "X.to_json(r'result.json')"
   ]
  },
  {
   "cell_type": "markdown",
   "metadata": {},
   "source": [
    "### 3. Применение классических ML-алго"
   ]
  },
  {
   "cell_type": "code",
   "execution_count": 40,
   "metadata": {},
   "outputs": [],
   "source": [
    "from sklearn.model_selection import train_test_split, GridSearchCV\n",
    "from sklearn.metrics import classification_report\n",
    "\n",
    "X_train, X_test, y_train, y_test = train_test_split(X, y, test_size=0.2, random_state=42, shuffle=True, stratify=y)"
   ]
  },
  {
   "cell_type": "markdown",
   "metadata": {},
   "source": [
    "train & test наборы данных распределены в пропорции 80/20 соответсвенно. \n",
    "\n",
    "Классы сбалансированы и в тестовой, и в обучающей выборке:"
   ]
  },
  {
   "cell_type": "code",
   "execution_count": 41,
   "metadata": {},
   "outputs": [
    {
     "data": {
      "text/plain": [
       "<AxesSubplot:>"
      ]
     },
     "execution_count": 41,
     "metadata": {},
     "output_type": "execute_result"
    },
    {
     "data": {
      "image/png": "[encoded data removed]",
      "text/plain": [
       "<Figure size 432x288 with 1 Axes>"
      ]
     },
     "metadata": {
      "needs_background": "light"
     },
     "output_type": "display_data"
    }
   ],
   "source": [
    "pd.Series(y_test).value_counts().plot(kind='barh')"
   ]
  },
  {
   "cell_type": "code",
   "execution_count": 42,
   "metadata": {
    "scrolled": true
   },
   "outputs": [
    {
     "data": {
      "text/plain": [
       "<AxesSubplot:>"
      ]
     },
     "execution_count": 42,
     "metadata": {},
     "output_type": "execute_result"
    },
    {
     "data": {
      "image/png": "[encoded data removed]",
      "text/plain": [
       "<Figure size 432x288 with 1 Axes>"
      ]
     },
     "metadata": {
      "needs_background": "light"
     },
     "output_type": "display_data"
    }
   ],
   "source": [
    "pd.Series(y_train).value_counts().plot(kind='barh')"
   ]
  },
  {
   "cell_type": "markdown",
   "metadata": {},
   "source": [
    "GridSearchCV используется для подстройки hyperparameter'ов. Лучшие параметры отбираются по наибольшему значению f-1."
   ]
  },
  {
   "cell_type": "markdown",
   "metadata": {},
   "source": [
    "#### 3.1 KNN"
   ]
  },
  {
   "cell_type": "code",
   "execution_count": 56,
   "metadata": {},
   "outputs": [
    {
     "name": "stdout",
     "output_type": "stream",
     "text": [
      "Fitting 2 folds for each of 16 candidates, totalling 32 fits\n",
      "[CV] metric=minkowski, n_neighbors=2, weights=distance ...............\n"
     ]
    },
    {
     "name": "stderr",
     "output_type": "stream",
     "text": [
      "[Parallel(n_jobs=1)]: Using backend SequentialBackend with 1 concurrent workers.\n"
     ]
    },
    {
     "name": "stdout",
     "output_type": "stream",
     "text": [
      "[CV]  metric=minkowski, n_neighbors=2, weights=distance, score=0.052, total= 1.1min\n",
      "[CV] metric=minkowski, n_neighbors=2, weights=distance ...............\n"
     ]
    },
    {
     "name": "stderr",
     "output_type": "stream",
     "text": [
      "[Parallel(n_jobs=1)]: Done   1 out of   1 | elapsed:  1.1min remaining:    0.0s\n"
     ]
    },
    {
     "name": "stdout",
     "output_type": "stream",
     "text": [
      "[CV]  metric=minkowski, n_neighbors=2, weights=distance, score=0.066, total= 1.1min\n",
      "[CV] metric=minkowski, n_neighbors=2, weights=uniform ................\n"
     ]
    },
    {
     "name": "stderr",
     "output_type": "stream",
     "text": [
      "[Parallel(n_jobs=1)]: Done   2 out of   2 | elapsed:  2.3min remaining:    0.0s\n"
     ]
    },
    {
     "name": "stdout",
     "output_type": "stream",
     "text": [
      "[CV]  metric=minkowski, n_neighbors=2, weights=uniform, score=0.113, total= 1.1min\n",
      "[CV] metric=minkowski, n_neighbors=2, weights=uniform ................\n",
      "[CV]  metric=minkowski, n_neighbors=2, weights=uniform, score=0.115, total= 1.1min\n",
      "[CV] metric=minkowski, n_neighbors=4, weights=distance ...............\n",
      "[CV]  metric=minkowski, n_neighbors=4, weights=distance, score=0.052, total= 1.5min\n",
      "[CV] metric=minkowski, n_neighbors=4, weights=distance ...............\n",
      "[CV]  metric=minkowski, n_neighbors=4, weights=distance, score=0.061, total= 1.4min\n",
      "[CV] metric=minkowski, n_neighbors=4, weights=uniform ................\n",
      "[CV]  metric=minkowski, n_neighbors=4, weights=uniform, score=0.128, total= 1.5min\n",
      "[CV] metric=minkowski, n_neighbors=4, weights=uniform ................\n",
      "[CV]  metric=minkowski, n_neighbors=4, weights=uniform, score=0.133, total= 1.5min\n",
      "[CV] metric=minkowski, n_neighbors=8, weights=distance ...............\n",
      "[CV]  metric=minkowski, n_neighbors=8, weights=distance, score=0.051, total= 1.5min\n",
      "[CV] metric=minkowski, n_neighbors=8, weights=distance ...............\n",
      "[CV]  metric=minkowski, n_neighbors=8, weights=distance, score=0.062, total= 1.5min\n",
      "[CV] metric=minkowski, n_neighbors=8, weights=uniform ................\n",
      "[CV]  metric=minkowski, n_neighbors=8, weights=uniform, score=0.155, total= 1.5min\n",
      "[CV] metric=minkowski, n_neighbors=8, weights=uniform ................\n",
      "[CV]  metric=minkowski, n_neighbors=8, weights=uniform, score=0.148, total= 1.5min\n",
      "[CV] metric=minkowski, n_neighbors=16, weights=distance ..............\n",
      "[CV]  metric=minkowski, n_neighbors=16, weights=distance, score=0.051, total= 1.5min\n",
      "[CV] metric=minkowski, n_neighbors=16, weights=distance ..............\n",
      "[CV]  metric=minkowski, n_neighbors=16, weights=distance, score=0.062, total= 1.5min\n",
      "[CV] metric=minkowski, n_neighbors=16, weights=uniform ...............\n",
      "[CV]  metric=minkowski, n_neighbors=16, weights=uniform, score=0.176, total= 1.5min\n",
      "[CV] metric=minkowski, n_neighbors=16, weights=uniform ...............\n",
      "[CV]  metric=minkowski, n_neighbors=16, weights=uniform, score=0.178, total= 1.5min\n",
      "[CV] metric=euclidean, n_neighbors=2, weights=distance ...............\n",
      "[CV]  metric=euclidean, n_neighbors=2, weights=distance, score=0.052, total= 1.1min\n",
      "[CV] metric=euclidean, n_neighbors=2, weights=distance ...............\n",
      "[CV]  metric=euclidean, n_neighbors=2, weights=distance, score=0.066, total= 1.1min\n",
      "[CV] metric=euclidean, n_neighbors=2, weights=uniform ................\n",
      "[CV]  metric=euclidean, n_neighbors=2, weights=uniform, score=0.113, total= 1.1min\n",
      "[CV] metric=euclidean, n_neighbors=2, weights=uniform ................\n",
      "[CV]  metric=euclidean, n_neighbors=2, weights=uniform, score=0.115, total= 1.1min\n",
      "[CV] metric=euclidean, n_neighbors=4, weights=distance ...............\n",
      "[CV]  metric=euclidean, n_neighbors=4, weights=distance, score=0.052, total= 1.5min\n",
      "[CV] metric=euclidean, n_neighbors=4, weights=distance ...............\n",
      "[CV]  metric=euclidean, n_neighbors=4, weights=distance, score=0.061, total= 1.4min\n",
      "[CV] metric=euclidean, n_neighbors=4, weights=uniform ................\n",
      "[CV]  metric=euclidean, n_neighbors=4, weights=uniform, score=0.128, total= 1.5min\n",
      "[CV] metric=euclidean, n_neighbors=4, weights=uniform ................\n",
      "[CV]  metric=euclidean, n_neighbors=4, weights=uniform, score=0.133, total= 1.5min\n",
      "[CV] metric=euclidean, n_neighbors=8, weights=distance ...............\n",
      "[CV]  metric=euclidean, n_neighbors=8, weights=distance, score=0.051, total= 1.5min\n",
      "[CV] metric=euclidean, n_neighbors=8, weights=distance ...............\n",
      "[CV]  metric=euclidean, n_neighbors=8, weights=distance, score=0.062, total= 1.5min\n",
      "[CV] metric=euclidean, n_neighbors=8, weights=uniform ................\n",
      "[CV]  metric=euclidean, n_neighbors=8, weights=uniform, score=0.155, total= 1.5min\n",
      "[CV] metric=euclidean, n_neighbors=8, weights=uniform ................\n",
      "[CV]  metric=euclidean, n_neighbors=8, weights=uniform, score=0.148, total= 1.5min\n",
      "[CV] metric=euclidean, n_neighbors=16, weights=distance ..............\n",
      "[CV]  metric=euclidean, n_neighbors=16, weights=distance, score=0.051, total= 1.5min\n",
      "[CV] metric=euclidean, n_neighbors=16, weights=distance ..............\n",
      "[CV]  metric=euclidean, n_neighbors=16, weights=distance, score=0.062, total= 1.5min\n",
      "[CV] metric=euclidean, n_neighbors=16, weights=uniform ...............\n",
      "[CV]  metric=euclidean, n_neighbors=16, weights=uniform, score=0.176, total= 1.5min\n",
      "[CV] metric=euclidean, n_neighbors=16, weights=uniform ...............\n",
      "[CV]  metric=euclidean, n_neighbors=16, weights=uniform, score=0.178, total= 1.5min\n"
     ]
    },
    {
     "name": "stderr",
     "output_type": "stream",
     "text": [
      "[Parallel(n_jobs=1)]: Done  32 out of  32 | elapsed: 44.0min finished\n"
     ]
    },
    {
     "data": {
      "text/plain": [
       "{'metric': 'minkowski', 'n_neighbors': 16, 'weights': 'uniform'}"
      ]
     },
     "execution_count": 56,
     "metadata": {},
     "output_type": "execute_result"
    }
   ],
   "source": [
    "from sklearn.neighbors import KNeighborsClassifier\n",
    "\n",
    "params = {\n",
    "    'n_neighbors': [2, 4, 8, 16],\n",
    "    'weights': ['distance', 'uniform'],\n",
    "    'metric': ['minkowski', 'euclidean']\n",
    "}\n",
    "\n",
    "gs_knn = GridSearchCV(\n",
    "    KNeighborsClassifier(),\n",
    "    params,\n",
    "    scoring='f1_micro',\n",
    "    verbose=3,\n",
    "    cv=2,\n",
    "    n_jobs=1,\n",
    ")\n",
    "\n",
    "#knn = KNeighborsClassifier(n_neighbors=2)\n",
    "gs_knn.fit(X_train, y_train)\n",
    "gs_knn.best_params_"
   ]
  },
  {
   "cell_type": "code",
   "execution_count": 59,
   "metadata": {},
   "outputs": [
    {
     "name": "stdout",
     "output_type": "stream",
     "text": [
      "              precision    recall  f1-score   support\n",
      "\n",
      "        auto       0.17      0.11      0.13       305\n",
      "      health       0.07      0.07      0.07       208\n",
      "   incidents       0.04      0.05      0.05       153\n",
      "   transport       0.01      0.02      0.02       134\n",
      "\n",
      "    accuracy                           0.07       800\n",
      "   macro avg       0.07      0.06      0.07       800\n",
      "weighted avg       0.09      0.07      0.08       800\n",
      "\n"
     ]
    }
   ],
   "source": [
    "y_pred = gs_knn.predict(X_test)\n",
    "print(classification_report(y_pred, y_test))"
   ]
  },
  {
   "cell_type": "markdown",
   "metadata": {},
   "source": [
    "Наблюдается что, KNN по какой-то причине предпочитает класс \"авто\", значение оценки f1-score сравнительно небольшое."
   ]
  },
  {
   "cell_type": "markdown",
   "metadata": {},
   "source": [
    "#### 3.2 Decision tree"
   ]
  },
  {
   "cell_type": "code",
   "execution_count": 61,
   "metadata": {
    "scrolled": false
   },
   "outputs": [
    {
     "name": "stdout",
     "output_type": "stream",
     "text": [
      "Fitting 2 folds for each of 60 candidates, totalling 120 fits\n"
     ]
    },
    {
     "name": "stderr",
     "output_type": "stream",
     "text": [
      "[Parallel(n_jobs=10)]: Using backend LokyBackend with 10 concurrent workers.\n",
      "[Parallel(n_jobs=10)]: Done  12 tasks      | elapsed:    7.4s\n",
      "[Parallel(n_jobs=10)]: Done 120 out of 120 | elapsed:  1.3min finished\n"
     ]
    },
    {
     "data": {
      "text/plain": [
       "{'max_depth': 4, 'min_samples_leaf': 1, 'min_samples_split': 2}"
      ]
     },
     "execution_count": 61,
     "metadata": {},
     "output_type": "execute_result"
    }
   ],
   "source": [
    "from sklearn.tree import DecisionTreeClassifier\n",
    "\n",
    "params = {\n",
    "    'max_depth': [4, 8, 16, 20, 30],\n",
    "    'min_samples_leaf': [1, 2, 4, 8],\n",
    "    'min_samples_split': [2, 5, 10]\n",
    "}\n",
    "\n",
    "gs_tree = GridSearchCV(\n",
    "    DecisionTreeClassifier(random_state=42),\n",
    "    params,\n",
    "    scoring='f1_micro',\n",
    "    verbose=3,\n",
    "    cv=2,\n",
    "    n_jobs=10\n",
    ")\n",
    "\n",
    "gs_tree.fit(X_train, y_train)\n",
    "gs_tree.best_params_"
   ]
  },
  {
   "cell_type": "code",
   "execution_count": 62,
   "metadata": {
    "scrolled": false
   },
   "outputs": [
    {
     "name": "stdout",
     "output_type": "stream",
     "text": [
      "              precision    recall  f1-score   support\n",
      "\n",
      "        auto       0.01      0.06      0.01        18\n",
      "      health       0.00      0.00      0.00        19\n",
      "   incidents       0.89      0.23      0.37       763\n",
      "   transport       0.00      0.00      0.00         0\n",
      "\n",
      "    accuracy                           0.22       800\n",
      "   macro avg       0.22      0.07      0.09       800\n",
      "weighted avg       0.85      0.22      0.35       800\n",
      "\n"
     ]
    }
   ],
   "source": [
    "y_pred = gs_tree.predict(X_test)\n",
    "print(classification_report(y_pred, y_test))"
   ]
  },
  {
   "cell_type": "markdown",
   "metadata": {},
   "source": [
    "В целом, decision tree показало результаты лучше, чем KNN."
   ]
  },
  {
   "cell_type": "markdown",
   "metadata": {},
   "source": [
    "#### 3.3 Random forest"
   ]
  },
  {
   "cell_type": "code",
   "execution_count": 64,
   "metadata": {},
   "outputs": [
    {
     "name": "stdout",
     "output_type": "stream",
     "text": [
      "Fitting 2 folds for each of 20 candidates, totalling 40 fits\n"
     ]
    },
    {
     "name": "stderr",
     "output_type": "stream",
     "text": [
      "[Parallel(n_jobs=10)]: Using backend LokyBackend with 10 concurrent workers.\n",
      "[Parallel(n_jobs=10)]: Done  12 tasks      | elapsed:    3.0s\n",
      "[Parallel(n_jobs=10)]: Done  35 out of  40 | elapsed:    5.7s remaining:    0.8s\n",
      "[Parallel(n_jobs=10)]: Done  40 out of  40 | elapsed:    6.6s finished\n"
     ]
    },
    {
     "data": {
      "text/plain": [
       "{'max_depth': 4,\n",
       " 'max_features': 2,\n",
       " 'min_samples_leaf': 1,\n",
       " 'min_samples_split': 2,\n",
       " 'n_estimators': 50}"
      ]
     },
     "execution_count": 64,
     "metadata": {},
     "output_type": "execute_result"
    }
   ],
   "source": [
    "from sklearn.ensemble import RandomForestClassifier\n",
    "\n",
    "params = {\n",
    "    'n_estimators': [50, 100, 200, 300],\n",
    "    'max_features': [2, 4, 8, 16, 32],\n",
    "    'max_depth': [4],\n",
    "    'min_samples_leaf': [1],\n",
    "    'min_samples_split': [2]\n",
    "}\n",
    "\n",
    "gs_rforest = GridSearchCV(\n",
    "    RandomForestClassifier(random_state=42),\n",
    "    params,\n",
    "    scoring='f1_micro',\n",
    "    verbose=3,\n",
    "    cv=2,\n",
    "    n_jobs=10\n",
    ")\n",
    "\n",
    "gs_rforest.fit(X_train, y_train)\n",
    "gs_rforest.best_params_"
   ]
  },
  {
   "cell_type": "code",
   "execution_count": 65,
   "metadata": {},
   "outputs": [
    {
     "name": "stdout",
     "output_type": "stream",
     "text": [
      "              precision    recall  f1-score   support\n",
      "\n",
      "        auto       0.01      0.02      0.01        57\n",
      "      health       0.04      0.08      0.05        95\n",
      "   incidents       0.59      0.21      0.31       571\n",
      "   transport       0.02      0.05      0.03        77\n",
      "\n",
      "    accuracy                           0.17       800\n",
      "   macro avg       0.17      0.09      0.10       800\n",
      "weighted avg       0.43      0.17      0.23       800\n",
      "\n"
     ]
    }
   ],
   "source": [
    "y_pred = gs_rforest.predict(X_test)\n",
    "print(classification_report(y_pred, y_test))"
   ]
  },
  {
   "cell_type": "markdown",
   "metadata": {},
   "source": [
    "Довольно странно, у Random Forest результаты хуже, чем у decision tree"
   ]
  },
  {
   "cell_type": "markdown",
   "metadata": {},
   "source": [
    "#### 3.4 SVM"
   ]
  },
  {
   "cell_type": "code",
   "execution_count": 66,
   "metadata": {},
   "outputs": [
    {
     "name": "stdout",
     "output_type": "stream",
     "text": [
      "Fitting 2 folds for each of 27 candidates, totalling 54 fits\n"
     ]
    },
    {
     "name": "stderr",
     "output_type": "stream",
     "text": [
      "[Parallel(n_jobs=10)]: Using backend LokyBackend with 10 concurrent workers.\n",
      "[Parallel(n_jobs=10)]: Done  12 tasks      | elapsed:  7.2min\n",
      "[Parallel(n_jobs=10)]: Done  54 out of  54 | elapsed: 21.1min remaining:    0.0s\n",
      "[Parallel(n_jobs=10)]: Done  54 out of  54 | elapsed: 21.1min finished\n"
     ]
    },
    {
     "data": {
      "text/plain": [
       "{'C': 0.1, 'gamma': 1, 'kernel': 'sigmoid'}"
      ]
     },
     "execution_count": 66,
     "metadata": {},
     "output_type": "execute_result"
    }
   ],
   "source": [
    "from sklearn.svm import SVC\n",
    "\n",
    "params = {\n",
    "    'C': [0.1, 1, 10], \n",
    "    'gamma': [1, 0.1, 0.01], \n",
    "    'kernel': ['rbf', 'poly', 'sigmoid']\n",
    "}\n",
    "\n",
    "gs_svm = GridSearchCV(\n",
    "    SVC(random_state=42),\n",
    "    params,\n",
    "    scoring='f1_micro',\n",
    "    verbose=3,\n",
    "    cv=2,\n",
    "    n_jobs=10\n",
    ")\n",
    "\n",
    "\n",
    "gs_svm.fit(X_train, y_train)\n",
    "gs_svm.best_params_"
   ]
  },
  {
   "cell_type": "code",
   "execution_count": 67,
   "metadata": {},
   "outputs": [
    {
     "name": "stdout",
     "output_type": "stream",
     "text": [
      "              precision    recall  f1-score   support\n",
      "\n",
      "        auto       0.00      0.00      0.00       113\n",
      "      health       0.06      0.09      0.07       141\n",
      "   incidents       0.06      0.03      0.04       337\n",
      "   transport       0.03      0.03      0.03       209\n",
      "\n",
      "    accuracy                           0.04       800\n",
      "   macro avg       0.04      0.04      0.04       800\n",
      "weighted avg       0.04      0.04      0.04       800\n",
      "\n"
     ]
    }
   ],
   "source": [
    "y_pred = gs_svm.predict(X_test)\n",
    "print(classification_report(y_pred, y_test))"
   ]
  },
  {
   "cell_type": "markdown",
   "metadata": {},
   "source": [
    "#### 3.5 Logistic Regression"
   ]
  },
  {
   "cell_type": "code",
   "execution_count": 68,
   "metadata": {},
   "outputs": [
    {
     "name": "stdout",
     "output_type": "stream",
     "text": [
      "Fitting 2 folds for each of 32 candidates, totalling 64 fits\n"
     ]
    },
    {
     "name": "stderr",
     "output_type": "stream",
     "text": [
      "[Parallel(n_jobs=10)]: Using backend LokyBackend with 10 concurrent workers.\n",
      "[Parallel(n_jobs=10)]: Done  12 tasks      | elapsed:    8.5s\n",
      "[Parallel(n_jobs=10)]: Done  64 out of  64 | elapsed:  3.2min finished\n"
     ]
    },
    {
     "data": {
      "text/plain": [
       "{'C': 0.1, 'penalty': 'l2', 'solver': 'newton-cg'}"
      ]
     },
     "execution_count": 68,
     "metadata": {},
     "output_type": "execute_result"
    }
   ],
   "source": [
    "from sklearn.linear_model import LogisticRegression\n",
    "\n",
    "params = {\n",
    "    'C': [0.1, 1, 10, 100],\n",
    "    'penalty': ['none', 'l1', 'l2', 'elasticnet'],\n",
    "    'solver': ['newton-cg', 'lbfgs']\n",
    "}\n",
    "\n",
    "gs_logreg = GridSearchCV(\n",
    "    LogisticRegression(random_state=42),\n",
    "    params,\n",
    "    scoring='f1_micro',\n",
    "    verbose=3,\n",
    "    cv=2,\n",
    "    n_jobs=10\n",
    ")\n",
    "\n",
    "gs_logreg.fit(X_train, y_train)\n",
    "gs_logreg.best_params_"
   ]
  },
  {
   "cell_type": "code",
   "execution_count": 69,
   "metadata": {},
   "outputs": [
    {
     "name": "stdout",
     "output_type": "stream",
     "text": [
      "              precision    recall  f1-score   support\n",
      "\n",
      "        auto       0.00      0.00      0.00       184\n",
      "      health       0.04      0.03      0.03       223\n",
      "   incidents       0.01      0.01      0.01       225\n",
      "   transport       0.00      0.00      0.00       168\n",
      "\n",
      "    accuracy                           0.01       800\n",
      "   macro avg       0.01      0.01      0.01       800\n",
      "weighted avg       0.01      0.01      0.01       800\n",
      "\n"
     ]
    }
   ],
   "source": [
    "y_pred = gs_logreg.predict(X_test)\n",
    "print(classification_report(y_pred, y_test))"
   ]
  },
  {
   "cell_type": "markdown",
   "metadata": {},
   "source": [
    "#### 3.6 Ridge Regression"
   ]
  },
  {
   "cell_type": "code",
   "execution_count": 70,
   "metadata": {},
   "outputs": [
    {
     "name": "stdout",
     "output_type": "stream",
     "text": [
      "Fitting 2 folds for each of 10 candidates, totalling 20 fits\n"
     ]
    },
    {
     "name": "stderr",
     "output_type": "stream",
     "text": [
      "[Parallel(n_jobs=10)]: Using backend LokyBackend with 10 concurrent workers.\n",
      "[Parallel(n_jobs=10)]: Done   8 out of  20 | elapsed:   12.1s remaining:   18.2s\n",
      "[Parallel(n_jobs=10)]: Done  15 out of  20 | elapsed:   19.6s remaining:    6.5s\n",
      "[Parallel(n_jobs=10)]: Done  20 out of  20 | elapsed:   20.1s finished\n"
     ]
    },
    {
     "data": {
      "text/plain": [
       "{'alpha': 1.0}"
      ]
     },
     "execution_count": 70,
     "metadata": {},
     "output_type": "execute_result"
    }
   ],
   "source": [
    "from sklearn.linear_model import RidgeClassifier\n",
    "\n",
    "params = {\n",
    "    'alpha': [0.1, 0.2, 0.3, 0.4, 0.5, 0.6, 0.7, 0.8, 0.9, 1.0]\n",
    "}\n",
    "\n",
    "gs_ridgereg = GridSearchCV(\n",
    "    RidgeClassifier(random_state=42),\n",
    "    params,\n",
    "    scoring='f1_micro',\n",
    "    verbose=3,\n",
    "    cv=2,\n",
    "    n_jobs=10\n",
    ")\n",
    "\n",
    "gs_ridgereg.fit(X_train, y_train)\n",
    "gs_ridgereg.best_params_"
   ]
  },
  {
   "cell_type": "code",
   "execution_count": 71,
   "metadata": {
    "scrolled": true
   },
   "outputs": [
    {
     "name": "stdout",
     "output_type": "stream",
     "text": [
      "              precision    recall  f1-score   support\n",
      "\n",
      "        auto       0.01      0.00      0.00       202\n",
      "      health       0.01      0.01      0.01       194\n",
      "   incidents       0.01      0.01      0.01       230\n",
      "   transport       0.00      0.00      0.00       174\n",
      "\n",
      "    accuracy                           0.01       800\n",
      "   macro avg       0.01      0.01      0.01       800\n",
      "weighted avg       0.01      0.01      0.01       800\n",
      "\n"
     ]
    }
   ],
   "source": [
    "y_pred = gs_ridgereg.predict(X_test)\n",
    "print(classification_report(y_pred, y_test))"
   ]
  },
  {
   "cell_type": "markdown",
   "metadata": {},
   "source": [
    "### 4. Сравнительный анализ"
   ]
  },
  {
   "cell_type": "markdown",
   "metadata": {},
   "source": [
    "Вывод всех classification reports в одном блоке"
   ]
  },
  {
   "cell_type": "code",
   "execution_count": 72,
   "metadata": {},
   "outputs": [
    {
     "name": "stdout",
     "output_type": "stream",
     "text": [
      "KNN:\n",
      "              precision    recall  f1-score   support\n",
      "\n",
      "        auto       0.17      0.11      0.13       305\n",
      "      health       0.07      0.07      0.07       208\n",
      "   incidents       0.04      0.05      0.05       153\n",
      "   transport       0.01      0.02      0.02       134\n",
      "\n",
      "    accuracy                           0.07       800\n",
      "   macro avg       0.07      0.06      0.07       800\n",
      "weighted avg       0.09      0.07      0.08       800\n",
      "\n",
      "Decision Tree:\n",
      "              precision    recall  f1-score   support\n",
      "\n",
      "        auto       0.01      0.06      0.01        18\n",
      "      health       0.00      0.00      0.00        19\n",
      "   incidents       0.89      0.23      0.37       763\n",
      "   transport       0.00      0.00      0.00         0\n",
      "\n",
      "    accuracy                           0.22       800\n",
      "   macro avg       0.22      0.07      0.09       800\n",
      "weighted avg       0.85      0.22      0.35       800\n",
      "\n",
      "SVM:\n",
      "              precision    recall  f1-score   support\n",
      "\n",
      "        auto       0.00      0.00      0.00       113\n",
      "      health       0.06      0.09      0.07       141\n",
      "   incidents       0.06      0.03      0.04       337\n",
      "   transport       0.03      0.03      0.03       209\n",
      "\n",
      "    accuracy                           0.04       800\n",
      "   macro avg       0.04      0.04      0.04       800\n",
      "weighted avg       0.04      0.04      0.04       800\n",
      "\n",
      "Random Forest:\n",
      "              precision    recall  f1-score   support\n",
      "\n",
      "        auto       0.01      0.02      0.01        57\n",
      "      health       0.04      0.08      0.05        95\n",
      "   incidents       0.59      0.21      0.31       571\n",
      "   transport       0.02      0.05      0.03        77\n",
      "\n",
      "    accuracy                           0.17       800\n",
      "   macro avg       0.17      0.09      0.10       800\n",
      "weighted avg       0.43      0.17      0.23       800\n",
      "\n",
      "Logistic Regression:\n",
      "              precision    recall  f1-score   support\n",
      "\n",
      "        auto       0.00      0.00      0.00       184\n",
      "      health       0.04      0.03      0.03       223\n",
      "   incidents       0.01      0.01      0.01       225\n",
      "   transport       0.00      0.00      0.00       168\n",
      "\n",
      "    accuracy                           0.01       800\n",
      "   macro avg       0.01      0.01      0.01       800\n",
      "weighted avg       0.01      0.01      0.01       800\n",
      "\n",
      "Ridge Regression:\n",
      "              precision    recall  f1-score   support\n",
      "\n",
      "        auto       0.01      0.00      0.00       202\n",
      "      health       0.01      0.01      0.01       194\n",
      "   incidents       0.01      0.01      0.01       230\n",
      "   transport       0.00      0.00      0.00       174\n",
      "\n",
      "    accuracy                           0.01       800\n",
      "   macro avg       0.01      0.01      0.01       800\n",
      "weighted avg       0.01      0.01      0.01       800\n",
      "\n"
     ]
    }
   ],
   "source": [
    "y_pred_knn = gs_knn.predict(X_test)\n",
    "print(\"KNN:\")\n",
    "print(classification_report(y_pred_knn, y_test))\n",
    "\n",
    "y_pred_tree = gs_tree.predict(X_test)\n",
    "print(\"Decision Tree:\")\n",
    "print(classification_report(y_pred_tree, y_test))\n",
    "\n",
    "y_pred_svm = gs_svm.predict(X_test)\n",
    "print(\"SVM:\")\n",
    "print(classification_report(y_pred_svm, y_test))\n",
    "\n",
    "y_pred_rforest = gs_rforest.predict(X_test)\n",
    "print(\"Random Forest:\")\n",
    "print(classification_report(y_pred_rforest, y_test))\n",
    "\n",
    "y_pred_logreg = gs_logreg.predict(X_test)\n",
    "print(\"Logistic Regression:\")\n",
    "print(classification_report(y_pred_logreg, y_test))\n",
    "\n",
    "y_pred_ridgereg = gs_ridgereg.predict(X_test)\n",
    "print(\"Ridge Regression:\")\n",
    "print(classification_report(y_pred_ridgereg, y_test))"
   ]
  },
  {
   "cell_type": "markdown",
   "metadata": {},
   "source": [
    "Лучшие результаты были достигнуты при использовании Decision Tree и Random Forest. Значения оценки f-1 score схожи, а значение оценки precision отличается на 0.3 для категории incidents, recall and accuracy score отличается не значительно.\n",
    "Сравним значения ROC AUC:"
   ]
  },
  {
   "cell_type": "code",
   "execution_count": 74,
   "metadata": {},
   "outputs": [
    {
     "data": {
      "text/plain": [
       "Text(0.5, 1.0, 'ROC AUC values')"
      ]
     },
     "execution_count": 74,
     "metadata": {},
     "output_type": "execute_result"
    },
    {
     "data": {
      "image/png": "[encoded data removed]",
      "text/plain": [
       "<Figure size 432x288 with 1 Axes>"
      ]
     },
     "metadata": {
      "needs_background": "light"
     },
     "output_type": "display_data"
    }
   ],
   "source": [
    "from sklearn.metrics import roc_auc_score\n",
    "from sklearn.preprocessing import OneHotEncoder\n",
    "\n",
    "encoder = OneHotEncoder()\n",
    "encoder.fit(np.array(categories).reshape(-1, 1))\n",
    "encoder.transform(np.array(y_test).reshape(-1, 1))\n",
    "\n",
    "\n",
    "roc_auc_dectree = roc_auc_score(\n",
    "    encoder.transform(np.array(y_test).reshape(-1, 1)).toarray(),\n",
    "    encoder.transform(np.array(y_pred_tree).reshape(-1, 1)).toarray(), \n",
    "    multi_class='ovr'\n",
    ")\n",
    "\n",
    "roc_auc_rforest = roc_auc_score(\n",
    "    encoder.transform(np.array(y_test).reshape(-1, 1)).toarray(),\n",
    "    encoder.transform(np.array(y_pred_rforest).reshape(-1, 1)).toarray(), \n",
    "    multi_class='ovr'\n",
    ")\n",
    "\n",
    "fig, ax = plt.subplots()\n",
    "ax.bar([f'Decision tree ({round(roc_auc_dectree, 5)})', f'Random Forest ({roc_auc_rforest})'], [roc_auc_ridgereg, roc_auc_logreg])\n",
    "ax.set_title('ROC AUC values')"
   ]
  },
  {
   "cell_type": "markdown",
   "metadata": {},
   "source": [
    "Значения ROC AUC также получились близки.\n",
    "Подытоживая, лучшими ml моделями являются Decision Tree и Random Forest с оценкой f-1 score 0,48 b 0,44 соответсвенно."
   ]
  },
  {
   "cell_type": "code",
   "execution_count": null,
   "metadata": {},
   "outputs": [],
   "source": []
  },
  {
   "cell_type": "code",
   "execution_count": null,
   "metadata": {},
   "outputs": [],
   "source": []
  }
 ],
 "metadata": {
  "kernelspec": {
   "display_name": "Python 3",
   "language": "python",
   "name": "python3"
  },
  "language_info": {
   "codemirror_mode": {
    "name": "ipython",
    "version": 3
   },
   "file_extension": ".py",
   "mimetype": "text/x-python",
   "name": "python",
   "nbconvert_exporter": "python",
   "pygments_lexer": "ipython3",
   "version": "3.8.3"
  }
 },
 "nbformat": 4,
 "nbformat_minor": 5
}
